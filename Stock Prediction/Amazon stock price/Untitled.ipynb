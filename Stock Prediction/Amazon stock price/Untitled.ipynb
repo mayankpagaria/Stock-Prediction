{
 "cells": [
  {
   "cell_type": "code",
   "execution_count": 1,
   "metadata": {},
   "outputs": [],
   "source": [
    "import numpy as np\n",
    "import pandas as pd\n",
    "import matplotlib.pyplot as plt\n",
    "%matplotlib inline\n",
    " \n",
    "from statsmodels.tools.eval_measures import rmse\n",
    "import seaborn as sns\n",
    "import statsmodels.api as sm\n",
    "import itertools\n",
    "from statsmodels.tsa.arima_model import ARIMA, ARMA\n",
    "import warnings\n",
    "warnings.filterwarnings(\"ignore\")"
   ]
  },
  {
   "cell_type": "code",
   "execution_count": 2,
   "metadata": {},
   "outputs": [],
   "source": [
    "data = pd.read_csv('AMZNtrain.csv')"
   ]
  },
  {
   "cell_type": "code",
   "execution_count": 3,
   "metadata": {},
   "outputs": [
    {
     "data": {
      "text/html": [
       "<div>\n",
       "<style scoped>\n",
       "    .dataframe tbody tr th:only-of-type {\n",
       "        vertical-align: middle;\n",
       "    }\n",
       "\n",
       "    .dataframe tbody tr th {\n",
       "        vertical-align: top;\n",
       "    }\n",
       "\n",
       "    .dataframe thead th {\n",
       "        text-align: right;\n",
       "    }\n",
       "</style>\n",
       "<table border=\"1\" class=\"dataframe\">\n",
       "  <thead>\n",
       "    <tr style=\"text-align: right;\">\n",
       "      <th></th>\n",
       "      <th>Date</th>\n",
       "      <th>Open</th>\n",
       "      <th>High</th>\n",
       "      <th>Low</th>\n",
       "      <th>Close</th>\n",
       "      <th>Adj Close</th>\n",
       "      <th>Volume</th>\n",
       "    </tr>\n",
       "  </thead>\n",
       "  <tbody>\n",
       "    <tr>\n",
       "      <th>0</th>\n",
       "      <td>2014-01-02</td>\n",
       "      <td>398.799988</td>\n",
       "      <td>399.359985</td>\n",
       "      <td>394.019989</td>\n",
       "      <td>397.970001</td>\n",
       "      <td>397.970001</td>\n",
       "      <td>2137800</td>\n",
       "    </tr>\n",
       "    <tr>\n",
       "      <th>1</th>\n",
       "      <td>2014-01-03</td>\n",
       "      <td>398.290009</td>\n",
       "      <td>402.709991</td>\n",
       "      <td>396.220001</td>\n",
       "      <td>396.440002</td>\n",
       "      <td>396.440002</td>\n",
       "      <td>2210200</td>\n",
       "    </tr>\n",
       "    <tr>\n",
       "      <th>2</th>\n",
       "      <td>2014-01-06</td>\n",
       "      <td>395.850006</td>\n",
       "      <td>397.000000</td>\n",
       "      <td>388.420013</td>\n",
       "      <td>393.630005</td>\n",
       "      <td>393.630005</td>\n",
       "      <td>3170600</td>\n",
       "    </tr>\n",
       "    <tr>\n",
       "      <th>3</th>\n",
       "      <td>2014-01-07</td>\n",
       "      <td>395.040009</td>\n",
       "      <td>398.470001</td>\n",
       "      <td>394.290009</td>\n",
       "      <td>398.029999</td>\n",
       "      <td>398.029999</td>\n",
       "      <td>1916000</td>\n",
       "    </tr>\n",
       "    <tr>\n",
       "      <th>4</th>\n",
       "      <td>2014-01-08</td>\n",
       "      <td>398.470001</td>\n",
       "      <td>403.000000</td>\n",
       "      <td>396.040009</td>\n",
       "      <td>401.920013</td>\n",
       "      <td>401.920013</td>\n",
       "      <td>2316500</td>\n",
       "    </tr>\n",
       "  </tbody>\n",
       "</table>\n",
       "</div>"
      ],
      "text/plain": [
       "         Date        Open        High         Low       Close   Adj Close  \\\n",
       "0  2014-01-02  398.799988  399.359985  394.019989  397.970001  397.970001   \n",
       "1  2014-01-03  398.290009  402.709991  396.220001  396.440002  396.440002   \n",
       "2  2014-01-06  395.850006  397.000000  388.420013  393.630005  393.630005   \n",
       "3  2014-01-07  395.040009  398.470001  394.290009  398.029999  398.029999   \n",
       "4  2014-01-08  398.470001  403.000000  396.040009  401.920013  401.920013   \n",
       "\n",
       "    Volume  \n",
       "0  2137800  \n",
       "1  2210200  \n",
       "2  3170600  \n",
       "3  1916000  \n",
       "4  2316500  "
      ]
     },
     "execution_count": 3,
     "metadata": {},
     "output_type": "execute_result"
    }
   ],
   "source": [
    "data.head()"
   ]
  },
  {
   "cell_type": "code",
   "execution_count": 4,
   "metadata": {},
   "outputs": [],
   "source": [
    "df = data[['Date','Close']]\n",
    "df.Date = pd.to_datetime(df.Date)\n",
    "df = df.set_index(\"Date\")"
   ]
  },
  {
   "cell_type": "code",
   "execution_count": 5,
   "metadata": {},
   "outputs": [
    {
     "data": {
      "text/plain": [
       "<AxesSubplot:xlabel='Date'>"
      ]
     },
     "execution_count": 5,
     "metadata": {},
     "output_type": "execute_result"
    },
    {
     "data": {
      "image/png": "[encoded data removed]",
      "text/plain": [
       "<Figure size 432x288 with 1 Axes>"
      ]
     },
     "metadata": {
      "needs_background": "light"
     },
     "output_type": "display_data"
    }
   ],
   "source": [
    "df.plot(style=\"-\")"
   ]
  },
  {
   "cell_type": "code",
   "execution_count": 6,
   "metadata": {},
   "outputs": [],
   "source": [
    "p = d = q = range(0, 3)\n",
    "# Generate all different combinations of p, q and q\n",
    "pdq = list(itertools.product(p, d, q))"
   ]
  },
  {
   "cell_type": "code",
   "execution_count": 7,
   "metadata": {},
   "outputs": [
    {
     "name": "stdout",
     "output_type": "stream",
     "text": [
      "ARIMA(0, 0, 0) - AIC:20826.463241759207\n",
      "ARIMA(0, 0, 1) - AIC:19110.493709147784\n",
      "ARIMA(0, 0, 2) - AIC:18157.00437235822\n",
      "ARIMA(0, 1, 0) - AIC:10967.25715260332\n",
      "ARIMA(0, 1, 1) - AIC:10968.362479024392\n",
      "ARIMA(0, 1, 2) - AIC:10970.361270726997\n",
      "ARIMA(0, 2, 0) - AIC:11862.447441972792\n",
      "ARIMA(0, 2, 1) - AIC:10966.016261328521\n",
      "ARIMA(0, 2, 2) - AIC:10967.00462063812\n",
      "ARIMA(1, 0, 0) - AIC:10986.0824267876\n",
      "ARIMA(1, 0, 1) - AIC:10987.091668247676\n",
      "ARIMA(1, 0, 2) - AIC:10989.0901246968\n",
      "ARIMA(1, 1, 0) - AIC:10968.360372685094\n",
      "ARIMA(1, 1, 1) - AIC:10970.328827715028\n",
      "ARIMA(1, 1, 2) - AIC:10966.25088101505\n",
      "ARIMA(1, 2, 0) - AIC:11478.744305815504\n",
      "ARIMA(1, 2, 1) - AIC:10966.983638839782\n",
      "ARIMA(1, 2, 2) - AIC:10964.688747942508\n",
      "ARIMA(2, 0, 0) - AIC:10987.088928247813\n",
      "ARIMA(2, 0, 1) - AIC:10984.687945332917\n",
      "ARIMA(2, 0, 2) - AIC:10984.988108946349\n",
      "ARIMA(2, 1, 0) - AIC:10970.355880445855\n",
      "ARIMA(2, 1, 1) - AIC:10972.357026971522\n",
      "ARIMA(2, 1, 2) - AIC:10967.178667580818\n",
      "ARIMA(2, 2, 0) - AIC:11345.650883084287\n",
      "ARIMA(2, 2, 1) - AIC:10968.980045422955\n",
      "ARIMA(2, 2, 2) - AIC:10964.797935171242\n",
      "The optimal model is: ARIMA(1, 2, 2) -AIC10964.688747942508\n"
     ]
    }
   ],
   "source": [
    "warnings.filterwarnings(\"ignore\")\n",
    "aic= []\n",
    "parameters = []\n",
    "\n",
    "for param in pdq:\n",
    "    try:\n",
    "        mod = sm.tsa.statespace.SARIMAX(df, order=param,\n",
    "        enforce_stationarity=True, enforce_invertibility=True)\n",
    "        results = mod.fit()\n",
    "        # save results in lists\n",
    "        aic.append(results.aic)\n",
    "        parameters.append(param)\n",
    "        #seasonal_param.append(param_seasonal)\n",
    "        print('ARIMA{} - AIC:{}'.format(param, results.aic))\n",
    "    except:\n",
    "        continue\n",
    "# find lowest aic          \n",
    "index_min = min(range(len(aic)), key=aic.__getitem__)           \n",
    " \n",
    "print('The optimal model is: ARIMA{} -AIC{}'.format(parameters[index_min], aic[index_min]))"
   ]
  },
  {
   "cell_type": "code",
   "execution_count": 8,
   "metadata": {},
   "outputs": [
    {
     "name": "stdout",
     "output_type": "stream",
     "text": [
      "                             ARIMA Model Results                              \n",
      "==============================================================================\n",
      "Dep. Variable:               D2.Close   No. Observations:                 1256\n",
      "Model:                 ARIMA(1, 2, 2)   Log Likelihood               -5480.260\n",
      "Method:                       css-mle   S.D. of innovations             18.944\n",
      "Date:                Mon, 26 Apr 2021   AIC                          10970.520\n",
      "Time:                        11:04:48   BIC                          10996.199\n",
      "Sample:                             2   HQIC                         10980.172\n",
      "                                                                              \n",
      "==================================================================================\n",
      "                     coef    std err          z      P>|z|      [0.025      0.975]\n",
      "----------------------------------------------------------------------------------\n",
      "const              0.0010      0.001      0.667      0.505      -0.002       0.004\n",
      "ar.L1.D2.Close    -0.1970      1.060     -0.186      0.853      -2.275       1.881\n",
      "ma.L1.D2.Close    -0.8310      1.066     -0.780      0.436      -2.920       1.258\n",
      "ma.L2.D2.Close    -0.1690      1.066     -0.159      0.874      -2.258       1.920\n",
      "                                    Roots                                    \n",
      "=============================================================================\n",
      "                  Real          Imaginary           Modulus         Frequency\n",
      "-----------------------------------------------------------------------------\n",
      "AR.1           -5.0755           +0.0000j            5.0755            0.5000\n",
      "MA.1            1.0000           +0.0000j            1.0000            0.0000\n",
      "MA.2           -5.9177           +0.0000j            5.9177            0.5000\n",
      "-----------------------------------------------------------------------------\n"
     ]
    }
   ],
   "source": [
    "model = ARIMA(df, order=parameters[index_min])\n",
    "model_fit = model.fit(disp=0) \n",
    "print(model_fit.summary())"
   ]
  },
  {
   "cell_type": "code",
   "execution_count": 16,
   "metadata": {},
   "outputs": [
    {
     "data": {
      "image/png": "[encoded data removed]",
      "text/plain": [
       "<Figure size 432x288 with 1 Axes>"
      ]
     },
     "metadata": {
      "needs_background": "light"
     },
     "output_type": "display_data"
    }
   ],
   "source": [
    "model_fit.plot_predict(start=2, end=len(df)+12)\n",
    "plt.plot(figsize=(15,6))\n",
    "plt.show()"
   ]
  },
  {
   "cell_type": "code",
   "execution_count": null,
   "metadata": {},
   "outputs": [],
   "source": []
  }
 ],
 "metadata": {
  "kernelspec": {
   "display_name": "Python 3",
   "language": "python",
   "name": "python3"
  },
  "language_info": {
   "codemirror_mode": {
    "name": "ipython",
    "version": 3
   },
   "file_extension": ".py",
   "mimetype": "text/x-python",
   "name": "python",
   "nbconvert_exporter": "python",
   "pygments_lexer": "ipython3",
   "version": "3.7.9"
  }
 },
 "nbformat": 4,
 "nbformat_minor": 4
}
