{
 "cells": [
  {
   "cell_type": "code",
   "execution_count": 1,
   "metadata": {},
   "outputs": [],
   "source": [
    "import pandas as pd \n",
    "import numpy as np\n",
    "import matplotlib.pyplot as plt\n",
    "import datetime"
   ]
  },
  {
   "cell_type": "code",
   "execution_count": 2,
   "metadata": {},
   "outputs": [],
   "source": [
    "data  = pd.read_csv('AMZNtrain.csv',index_col='Date',parse_dates=True)"
   ]
  },
  {
   "cell_type": "code",
   "execution_count": 3,
   "metadata": {},
   "outputs": [
    {
     "data": {
      "text/html": [
       "<div>\n",
       "<style scoped>\n",
       "    .dataframe tbody tr th:only-of-type {\n",
       "        vertical-align: middle;\n",
       "    }\n",
       "\n",
       "    .dataframe tbody tr th {\n",
       "        vertical-align: top;\n",
       "    }\n",
       "\n",
       "    .dataframe thead th {\n",
       "        text-align: right;\n",
       "    }\n",
       "</style>\n",
       "<table border=\"1\" class=\"dataframe\">\n",
       "  <thead>\n",
       "    <tr style=\"text-align: right;\">\n",
       "      <th></th>\n",
       "      <th>Open</th>\n",
       "      <th>High</th>\n",
       "      <th>Low</th>\n",
       "      <th>Close</th>\n",
       "      <th>Adj Close</th>\n",
       "      <th>Volume</th>\n",
       "    </tr>\n",
       "    <tr>\n",
       "      <th>Date</th>\n",
       "      <th></th>\n",
       "      <th></th>\n",
       "      <th></th>\n",
       "      <th></th>\n",
       "      <th></th>\n",
       "      <th></th>\n",
       "    </tr>\n",
       "  </thead>\n",
       "  <tbody>\n",
       "    <tr>\n",
       "      <th>2014-01-02</th>\n",
       "      <td>398.799988</td>\n",
       "      <td>399.359985</td>\n",
       "      <td>394.019989</td>\n",
       "      <td>397.970001</td>\n",
       "      <td>397.970001</td>\n",
       "      <td>2137800</td>\n",
       "    </tr>\n",
       "    <tr>\n",
       "      <th>2014-01-03</th>\n",
       "      <td>398.290009</td>\n",
       "      <td>402.709991</td>\n",
       "      <td>396.220001</td>\n",
       "      <td>396.440002</td>\n",
       "      <td>396.440002</td>\n",
       "      <td>2210200</td>\n",
       "    </tr>\n",
       "    <tr>\n",
       "      <th>2014-01-06</th>\n",
       "      <td>395.850006</td>\n",
       "      <td>397.000000</td>\n",
       "      <td>388.420013</td>\n",
       "      <td>393.630005</td>\n",
       "      <td>393.630005</td>\n",
       "      <td>3170600</td>\n",
       "    </tr>\n",
       "    <tr>\n",
       "      <th>2014-01-07</th>\n",
       "      <td>395.040009</td>\n",
       "      <td>398.470001</td>\n",
       "      <td>394.290009</td>\n",
       "      <td>398.029999</td>\n",
       "      <td>398.029999</td>\n",
       "      <td>1916000</td>\n",
       "    </tr>\n",
       "    <tr>\n",
       "      <th>2014-01-08</th>\n",
       "      <td>398.470001</td>\n",
       "      <td>403.000000</td>\n",
       "      <td>396.040009</td>\n",
       "      <td>401.920013</td>\n",
       "      <td>401.920013</td>\n",
       "      <td>2316500</td>\n",
       "    </tr>\n",
       "  </tbody>\n",
       "</table>\n",
       "</div>"
      ],
      "text/plain": [
       "                  Open        High         Low       Close   Adj Close  \\\n",
       "Date                                                                     \n",
       "2014-01-02  398.799988  399.359985  394.019989  397.970001  397.970001   \n",
       "2014-01-03  398.290009  402.709991  396.220001  396.440002  396.440002   \n",
       "2014-01-06  395.850006  397.000000  388.420013  393.630005  393.630005   \n",
       "2014-01-07  395.040009  398.470001  394.290009  398.029999  398.029999   \n",
       "2014-01-08  398.470001  403.000000  396.040009  401.920013  401.920013   \n",
       "\n",
       "             Volume  \n",
       "Date                 \n",
       "2014-01-02  2137800  \n",
       "2014-01-03  2210200  \n",
       "2014-01-06  3170600  \n",
       "2014-01-07  1916000  \n",
       "2014-01-08  2316500  "
      ]
     },
     "execution_count": 3,
     "metadata": {},
     "output_type": "execute_result"
    }
   ],
   "source": [
    "data.head()"
   ]
  },
  {
   "cell_type": "code",
   "execution_count": 4,
   "metadata": {},
   "outputs": [
    {
     "name": "stdout",
     "output_type": "stream",
     "text": [
      "<class 'pandas.core.frame.DataFrame'>\n",
      "DatetimeIndex: 1258 entries, 2014-01-02 to 2018-12-31\n",
      "Data columns (total 6 columns):\n",
      " #   Column     Non-Null Count  Dtype  \n",
      "---  ------     --------------  -----  \n",
      " 0   Open       1258 non-null   float64\n",
      " 1   High       1258 non-null   float64\n",
      " 2   Low        1258 non-null   float64\n",
      " 3   Close      1258 non-null   float64\n",
      " 4   Adj Close  1258 non-null   float64\n",
      " 5   Volume     1258 non-null   int64  \n",
      "dtypes: float64(5), int64(1)\n",
      "memory usage: 68.8 KB\n"
     ]
    }
   ],
   "source": [
    "data.info()"
   ]
  },
  {
   "cell_type": "code",
   "execution_count": 5,
   "metadata": {},
   "outputs": [
    {
     "data": {
      "text/plain": [
       "Open         False\n",
       "High         False\n",
       "Low          False\n",
       "Close        False\n",
       "Adj Close    False\n",
       "Volume       False\n",
       "dtype: bool"
      ]
     },
     "execution_count": 5,
     "metadata": {},
     "output_type": "execute_result"
    }
   ],
   "source": [
    "data.isna().any()"
   ]
  },
  {
   "cell_type": "code",
   "execution_count": 6,
   "metadata": {},
   "outputs": [
    {
     "data": {
      "text/plain": [
       "<AxesSubplot:xlabel='Date'>"
      ]
     },
     "execution_count": 6,
     "metadata": {},
     "output_type": "execute_result"
    },
    {
     "data": {
      "image/png": "[encoded data removed]",
      "text/plain": [
       "<Figure size 1080x432 with 1 Axes>"
      ]
     },
     "metadata": {
      "needs_background": "light"
     },
     "output_type": "display_data"
    }
   ],
   "source": [
    "data['Open'].plot(figsize=(15,6))"
   ]
  },
  {
   "cell_type": "code",
   "execution_count": 7,
   "metadata": {},
   "outputs": [
    {
     "data": {
      "text/plain": [
       "<AxesSubplot:xlabel='Date'>"
      ]
     },
     "execution_count": 7,
     "metadata": {},
     "output_type": "execute_result"
    },
    {
     "data": {
      "image/png": "[encoded data removed]",
      "text/plain": [
       "<Figure size 1080x432 with 1 Axes>"
      ]
     },
     "metadata": {
      "needs_background": "light"
     },
     "output_type": "display_data"
    }
   ],
   "source": [
    "data['Open'].plot(figsize=(15,6))\n",
    "data.rolling(window = 30).mean()['Close'].plot()"
   ]
  },
  {
   "cell_type": "code",
   "execution_count": 8,
   "metadata": {},
   "outputs": [],
   "source": [
    "train_set = data['Open']\n",
    "train_set= pd.DataFrame(train_set)"
   ]
  },
  {
   "cell_type": "code",
   "execution_count": 9,
   "metadata": {},
   "outputs": [],
   "source": [
    "from sklearn.preprocessing import MinMaxScaler\n",
    "me = MinMaxScaler(feature_range = (0,1))\n",
    "train_set_scaled = me.fit_transform(train_set)"
   ]
  },
  {
   "cell_type": "code",
   "execution_count": 11,
   "metadata": {},
   "outputs": [],
   "source": [
    "x_train = []\n",
    "y_train = []\n",
    "for i in range(60,1258):\n",
    "    x_train.append(train_set_scaled[i-60:i,0])\n",
    "    y_train.append(train_set_scaled[i,0])\n",
    "x_train,y_train = np.array(x_train),np.array(y_train)\n",
    "\n",
    "x_train = np.reshape(x_train,(x_train.shape[0],x_train.shape[1],1))"
   ]
  },
  {
   "cell_type": "code",
   "execution_count": 12,
   "metadata": {},
   "outputs": [],
   "source": [
    "from keras.models import Sequential\n",
    "from keras.layers import Dense\n",
    "from keras.layers import LSTM\n",
    "from keras.layers import Dropout\n"
   ]
  },
  {
   "cell_type": "code",
   "execution_count": 13,
   "metadata": {},
   "outputs": [],
   "source": [
    "regressor = Sequential()"
   ]
  },
  {
   "cell_type": "code",
   "execution_count": 14,
   "metadata": {},
   "outputs": [],
   "source": [
    "regressor.add(LSTM(units=50,return_sequences=True, input_shape=(x_train.shape[1],1)))\n",
    "regressor.add(Dropout(0.2))"
   ]
  },
  {
   "cell_type": "code",
   "execution_count": 21,
   "metadata": {},
   "outputs": [],
   "source": [
    "regressor.add(LSTM(units=50, return_sequences=True))\n",
    "regressor.add(Dropout(0.2))\n",
    "\n",
    "regressor.add(LSTM(units=50, return_sequences=True))\n",
    "regressor.add(Dropout(0.2))\n",
    "\n",
    "regressor.add(LSTM(units=50))\n",
    "regressor.add(Dropout(0.2))\n",
    "\n",
    "regressor.add(Dense(units=1))"
   ]
  },
  {
   "cell_type": "code",
   "execution_count": 22,
   "metadata": {},
   "outputs": [
    {
     "name": "stdout",
     "output_type": "stream",
     "text": [
      "Epoch 1/100\n",
      "38/38 [==============================] - 4s 97ms/step - loss: 0.0238\n",
      "Epoch 2/100\n",
      "38/38 [==============================] - 3s 89ms/step - loss: 0.0038\n",
      "Epoch 3/100\n",
      "38/38 [==============================] - 3s 92ms/step - loss: 0.0029: \n",
      "Epoch 4/100\n",
      "38/38 [==============================] - 3s 91ms/step - loss: 0.0025\n",
      "Epoch 5/100\n",
      "38/38 [==============================] - 3s 91ms/step - loss: 0.0035\n",
      "Epoch 6/100\n",
      "38/38 [==============================] - 3s 92ms/step - loss: 0.0027\n",
      "Epoch 7/100\n",
      "38/38 [==============================] - 4s 93ms/step - loss: 0.0023\n",
      "Epoch 8/100\n",
      "38/38 [==============================] - 4s 93ms/step - loss: 0.0027\n",
      "Epoch 9/100\n",
      "38/38 [==============================] - 4s 93ms/step - loss: 0.0027\n",
      "Epoch 10/100\n",
      "38/38 [==============================] - 4s 94ms/step - loss: 0.0027\n",
      "Epoch 11/100\n",
      "38/38 [==============================] - 4s 105ms/step - loss: 0.0025\n",
      "Epoch 12/100\n",
      "38/38 [==============================] - 4s 105ms/step - loss: 0.0024\n",
      "Epoch 13/100\n",
      "38/38 [==============================] - 4s 105ms/step - loss: 0.0023\n",
      "Epoch 14/100\n",
      "38/38 [==============================] - 4s 94ms/step - loss: 0.0023\n",
      "Epoch 15/100\n",
      "38/38 [==============================] - 4s 99ms/step - loss: 0.0021\n",
      "Epoch 16/100\n",
      "38/38 [==============================] - 4s 103ms/step - loss: 0.0021\n",
      "Epoch 17/100\n",
      "38/38 [==============================] - 3s 92ms/step - loss: 0.0033\n",
      "Epoch 18/100\n",
      "38/38 [==============================] - 4s 93ms/step - loss: 0.0020\n",
      "Epoch 19/100\n",
      "38/38 [==============================] - 3s 92ms/step - loss: 0.0021\n",
      "Epoch 20/100\n",
      "38/38 [==============================] - 4s 93ms/step - loss: 0.0022\n",
      "Epoch 21/100\n",
      "38/38 [==============================] - 3s 92ms/step - loss: 0.0018\n",
      "Epoch 22/100\n",
      "38/38 [==============================] - 3s 91ms/step - loss: 0.0018\n",
      "Epoch 23/100\n",
      "38/38 [==============================] - 3s 92ms/step - loss: 0.0020\n",
      "Epoch 24/100\n",
      "38/38 [==============================] - 3s 91ms/step - loss: 0.0017\n",
      "Epoch 25/100\n",
      "38/38 [==============================] - 3s 92ms/step - loss: 0.0020\n",
      "Epoch 26/100\n",
      "38/38 [==============================] - 3s 91ms/step - loss: 0.0019\n",
      "Epoch 27/100\n",
      "38/38 [==============================] - 3s 91ms/step - loss: 0.0016\n",
      "Epoch 28/100\n",
      "38/38 [==============================] - 4s 94ms/step - loss: 0.0021\n",
      "Epoch 29/100\n",
      "38/38 [==============================] - 3s 91ms/step - loss: 0.0022\n",
      "Epoch 30/100\n",
      "38/38 [==============================] - 3s 91ms/step - loss: 0.0017\n",
      "Epoch 31/100\n",
      "38/38 [==============================] - 3s 91ms/step - loss: 0.0015\n",
      "Epoch 32/100\n",
      "38/38 [==============================] - 4s 98ms/step - loss: 0.0016\n",
      "Epoch 33/100\n",
      "38/38 [==============================] - 3s 91ms/step - loss: 0.0019\n",
      "Epoch 34/100\n",
      "38/38 [==============================] - 4s 93ms/step - loss: 0.0018\n",
      "Epoch 35/100\n",
      "38/38 [==============================] - 3s 92ms/step - loss: 0.0016\n",
      "Epoch 36/100\n",
      "38/38 [==============================] - 4s 97ms/step - loss: 0.0014\n",
      "Epoch 37/100\n",
      "38/38 [==============================] - 4s 105ms/step - loss: 0.0016\n",
      "Epoch 38/100\n",
      "38/38 [==============================] - 4s 103ms/step - loss: 0.0016\n",
      "Epoch 39/100\n",
      "38/38 [==============================] - 4s 107ms/step - loss: 0.0018\n",
      "Epoch 40/100\n",
      "38/38 [==============================] - 4s 99ms/step - loss: 0.0016\n",
      "Epoch 41/100\n",
      "38/38 [==============================] - 4s 108ms/step - loss: 0.0016\n",
      "Epoch 42/100\n",
      "38/38 [==============================] - 4s 109ms/step - loss: 0.0019\n",
      "Epoch 43/100\n",
      "38/38 [==============================] - 4s 98ms/step - loss: 0.0019\n",
      "Epoch 44/100\n",
      "38/38 [==============================] - 4s 99ms/step - loss: 0.0017\n",
      "Epoch 45/100\n",
      "38/38 [==============================] - 4s 97ms/step - loss: 0.0013\n",
      "Epoch 46/100\n",
      "38/38 [==============================] - 4s 94ms/step - loss: 0.0015\n",
      "Epoch 47/100\n",
      "38/38 [==============================] - 4s 93ms/step - loss: 0.0014\n",
      "Epoch 48/100\n",
      "38/38 [==============================] - 4s 99ms/step - loss: 0.0014\n",
      "Epoch 49/100\n",
      "38/38 [==============================] - 3s 92ms/step - loss: 0.0016\n",
      "Epoch 50/100\n",
      "38/38 [==============================] - 4s 92ms/step - loss: 0.0016\n",
      "Epoch 51/100\n",
      "38/38 [==============================] - 4s 92ms/step - loss: 0.0012\n",
      "Epoch 52/100\n",
      "38/38 [==============================] - 4s 92ms/step - loss: 0.0015\n",
      "Epoch 53/100\n",
      "38/38 [==============================] - 4s 94ms/step - loss: 0.0015\n",
      "Epoch 54/100\n",
      "38/38 [==============================] - 4s 93ms/step - loss: 0.0014\n",
      "Epoch 55/100\n",
      "38/38 [==============================] - 4s 93ms/step - loss: 0.0012\n",
      "Epoch 56/100\n",
      "38/38 [==============================] - 4s 93ms/step - loss: 0.0013: 1s \n",
      "Epoch 57/100\n",
      "38/38 [==============================] - 4s 92ms/step - loss: 0.0016\n",
      "Epoch 58/100\n",
      "38/38 [==============================] - 4s 92ms/step - loss: 0.0019\n",
      "Epoch 59/100\n",
      "38/38 [==============================] - 4s 94ms/step - loss: 0.0013\n",
      "Epoch 60/100\n",
      "38/38 [==============================] - 4s 93ms/step - loss: 0.0013\n",
      "Epoch 61/100\n",
      "38/38 [==============================] - 4s 95ms/step - loss: 0.0014\n",
      "Epoch 62/100\n",
      "38/38 [==============================] - 4s 111ms/step - loss: 0.0015\n",
      "Epoch 63/100\n",
      "38/38 [==============================] - 4s 109ms/step - loss: 0.0015\n",
      "Epoch 64/100\n",
      "38/38 [==============================] - 4s 117ms/step - loss: 0.0012\n",
      "Epoch 65/100\n",
      "38/38 [==============================] - 4s 107ms/step - loss: 0.0013\n",
      "Epoch 66/100\n",
      "38/38 [==============================] - 5s 138ms/step - loss: 0.0012\n",
      "Epoch 67/100\n",
      "38/38 [==============================] - 4s 112ms/step - loss: 0.0012\n",
      "Epoch 68/100\n",
      "38/38 [==============================] - 5s 135ms/step - loss: 0.0012\n",
      "Epoch 69/100\n",
      "38/38 [==============================] - 7s 196ms/step - loss: 0.0012\n",
      "Epoch 70/100\n",
      "38/38 [==============================] - 7s 186ms/step - loss: 0.0013\n",
      "Epoch 71/100\n",
      "38/38 [==============================] - 7s 185ms/step - loss: 0.0012\n",
      "Epoch 72/100\n",
      "38/38 [==============================] - 6s 167ms/step - loss: 0.0011\n",
      "Epoch 73/100\n",
      "38/38 [==============================] - 5s 131ms/step - loss: 0.0014\n",
      "Epoch 74/100\n",
      "38/38 [==============================] - 4s 111ms/step - loss: 0.0013\n",
      "Epoch 75/100\n",
      "38/38 [==============================] - 4s 98ms/step - loss: 0.0010\n",
      "Epoch 76/100\n",
      "38/38 [==============================] - 4s 96ms/step - loss: 0.0012\n",
      "Epoch 77/100\n",
      "38/38 [==============================] - 4s 96ms/step - loss: 0.0014: 0s - loss:\n",
      "Epoch 78/100\n",
      "38/38 [==============================] - 4s 98ms/step - loss: 0.0012\n",
      "Epoch 79/100\n",
      "38/38 [==============================] - 4s 118ms/step - loss: 0.0012\n",
      "Epoch 80/100\n",
      "38/38 [==============================] - 4s 106ms/step - loss: 0.0011\n",
      "Epoch 81/100\n",
      "38/38 [==============================] - 4s 98ms/step - loss: 0.0011\n",
      "Epoch 82/100\n",
      "38/38 [==============================] - 4s 101ms/step - loss: 0.0011\n",
      "Epoch 83/100\n",
      "38/38 [==============================] - 5s 123ms/step - loss: 0.0012\n",
      "Epoch 84/100\n",
      "38/38 [==============================] - 4s 112ms/step - loss: 0.0012\n",
      "Epoch 85/100\n",
      "38/38 [==============================] - 4s 109ms/step - loss: 0.0011\n",
      "Epoch 86/100\n",
      "38/38 [==============================] - 4s 103ms/step - loss: 0.0011\n",
      "Epoch 87/100\n",
      "38/38 [==============================] - 4s 103ms/step - loss: 0.0011\n",
      "Epoch 88/100\n",
      "38/38 [==============================] - 4s 112ms/step - loss: 0.0014\n",
      "Epoch 89/100\n",
      "38/38 [==============================] - 4s 107ms/step - loss: 0.0012\n",
      "Epoch 90/100\n",
      "38/38 [==============================] - 4s 104ms/step - loss: 0.0011\n",
      "Epoch 91/100\n",
      "38/38 [==============================] - 4s 115ms/step - loss: 0.0013\n",
      "Epoch 92/100\n",
      "38/38 [==============================] - 4s 96ms/step - loss: 0.0012\n",
      "Epoch 93/100\n",
      "38/38 [==============================] - 4s 95ms/step - loss: 9.3507e-04\n",
      "Epoch 94/100\n",
      "38/38 [==============================] - 5s 128ms/step - loss: 0.0010\n",
      "Epoch 95/100\n",
      "38/38 [==============================] - 6s 151ms/step - loss: 9.7688e-04\n",
      "Epoch 96/100\n",
      "38/38 [==============================] - 4s 107ms/step - loss: 0.0013\n",
      "Epoch 97/100\n",
      "38/38 [==============================] - 4s 109ms/step - loss: 0.0012\n",
      "Epoch 98/100\n",
      "38/38 [==============================] - 4s 100ms/step - loss: 9.4185e-04 1s - los\n",
      "Epoch 99/100\n",
      "38/38 [==============================] - 4s 106ms/step - loss: 0.0010\n",
      "Epoch 100/100\n"
     ]
    },
    {
     "name": "stdout",
     "output_type": "stream",
     "text": [
      "38/38 [==============================] - 4s 105ms/step - loss: 0.0011\n"
     ]
    },
    {
     "data": {
      "text/plain": [
       "<tensorflow.python.keras.callbacks.History at 0x1ce821426c8>"
      ]
     },
     "execution_count": 22,
     "metadata": {},
     "output_type": "execute_result"
    }
   ],
   "source": [
    "regressor.compile(optimizer='adam',loss='mean_squared_error')\n",
    "regressor.fit(x_train,y_train,epochs=100,batch_size=32)"
   ]
  },
  {
   "cell_type": "code",
   "execution_count": 27,
   "metadata": {},
   "outputs": [],
   "source": [
    "data_test = pd.read_csv('AMZNtest.csv',index_col='Date',parse_dates=True)"
   ]
  },
  {
   "cell_type": "code",
   "execution_count": 28,
   "metadata": {},
   "outputs": [
    {
     "data": {
      "text/html": [
       "<div>\n",
       "<style scoped>\n",
       "    .dataframe tbody tr th:only-of-type {\n",
       "        vertical-align: middle;\n",
       "    }\n",
       "\n",
       "    .dataframe tbody tr th {\n",
       "        vertical-align: top;\n",
       "    }\n",
       "\n",
       "    .dataframe thead th {\n",
       "        text-align: right;\n",
       "    }\n",
       "</style>\n",
       "<table border=\"1\" class=\"dataframe\">\n",
       "  <thead>\n",
       "    <tr style=\"text-align: right;\">\n",
       "      <th></th>\n",
       "      <th>Open</th>\n",
       "      <th>High</th>\n",
       "      <th>Low</th>\n",
       "      <th>Close</th>\n",
       "      <th>Adj Close</th>\n",
       "      <th>Volume</th>\n",
       "    </tr>\n",
       "    <tr>\n",
       "      <th>Date</th>\n",
       "      <th></th>\n",
       "      <th></th>\n",
       "      <th></th>\n",
       "      <th></th>\n",
       "      <th></th>\n",
       "      <th></th>\n",
       "    </tr>\n",
       "  </thead>\n",
       "  <tbody>\n",
       "    <tr>\n",
       "      <th>2019-01-02</th>\n",
       "      <td>1465.199951</td>\n",
       "      <td>1553.359985</td>\n",
       "      <td>1460.930054</td>\n",
       "      <td>1539.130005</td>\n",
       "      <td>1539.130005</td>\n",
       "      <td>7983100</td>\n",
       "    </tr>\n",
       "    <tr>\n",
       "      <th>2019-01-03</th>\n",
       "      <td>1520.010010</td>\n",
       "      <td>1538.000000</td>\n",
       "      <td>1497.109985</td>\n",
       "      <td>1500.280029</td>\n",
       "      <td>1500.280029</td>\n",
       "      <td>6975600</td>\n",
       "    </tr>\n",
       "    <tr>\n",
       "      <th>2019-01-04</th>\n",
       "      <td>1530.000000</td>\n",
       "      <td>1594.000000</td>\n",
       "      <td>1518.310059</td>\n",
       "      <td>1575.390015</td>\n",
       "      <td>1575.390015</td>\n",
       "      <td>9182600</td>\n",
       "    </tr>\n",
       "    <tr>\n",
       "      <th>2019-01-07</th>\n",
       "      <td>1602.310059</td>\n",
       "      <td>1634.560059</td>\n",
       "      <td>1589.189941</td>\n",
       "      <td>1629.510010</td>\n",
       "      <td>1629.510010</td>\n",
       "      <td>7993200</td>\n",
       "    </tr>\n",
       "    <tr>\n",
       "      <th>2019-01-08</th>\n",
       "      <td>1664.689941</td>\n",
       "      <td>1676.609985</td>\n",
       "      <td>1616.609985</td>\n",
       "      <td>1656.579956</td>\n",
       "      <td>1656.579956</td>\n",
       "      <td>8881400</td>\n",
       "    </tr>\n",
       "  </tbody>\n",
       "</table>\n",
       "</div>"
      ],
      "text/plain": [
       "                   Open         High          Low        Close    Adj Close  \\\n",
       "Date                                                                          \n",
       "2019-01-02  1465.199951  1553.359985  1460.930054  1539.130005  1539.130005   \n",
       "2019-01-03  1520.010010  1538.000000  1497.109985  1500.280029  1500.280029   \n",
       "2019-01-04  1530.000000  1594.000000  1518.310059  1575.390015  1575.390015   \n",
       "2019-01-07  1602.310059  1634.560059  1589.189941  1629.510010  1629.510010   \n",
       "2019-01-08  1664.689941  1676.609985  1616.609985  1656.579956  1656.579956   \n",
       "\n",
       "             Volume  \n",
       "Date                 \n",
       "2019-01-02  7983100  \n",
       "2019-01-03  6975600  \n",
       "2019-01-04  9182600  \n",
       "2019-01-07  7993200  \n",
       "2019-01-08  8881400  "
      ]
     },
     "execution_count": 28,
     "metadata": {},
     "output_type": "execute_result"
    }
   ],
   "source": [
    "data_test.head()"
   ]
  },
  {
   "cell_type": "code",
   "execution_count": 29,
   "metadata": {},
   "outputs": [
    {
     "name": "stdout",
     "output_type": "stream",
     "text": [
      "<class 'pandas.core.frame.DataFrame'>\n",
      "DatetimeIndex: 21 entries, 2019-01-02 to 2019-01-31\n",
      "Data columns (total 6 columns):\n",
      " #   Column     Non-Null Count  Dtype  \n",
      "---  ------     --------------  -----  \n",
      " 0   Open       21 non-null     float64\n",
      " 1   High       21 non-null     float64\n",
      " 2   Low        21 non-null     float64\n",
      " 3   Close      21 non-null     float64\n",
      " 4   Adj Close  21 non-null     float64\n",
      " 5   Volume     21 non-null     int64  \n",
      "dtypes: float64(5), int64(1)\n",
      "memory usage: 1.1 KB\n"
     ]
    }
   ],
   "source": [
    "data_test.info()"
   ]
  },
  {
   "cell_type": "code",
   "execution_count": 30,
   "metadata": {},
   "outputs": [],
   "source": [
    "test_set = data_test['Open']\n",
    "test_set= pd.DataFrame(test_set)"
   ]
  },
  {
   "cell_type": "code",
   "execution_count": 31,
   "metadata": {},
   "outputs": [
    {
     "name": "stdout",
     "output_type": "stream",
     "text": [
      "<class 'pandas.core.frame.DataFrame'>\n",
      "DatetimeIndex: 21 entries, 2019-01-02 to 2019-01-31\n",
      "Data columns (total 1 columns):\n",
      " #   Column  Non-Null Count  Dtype  \n",
      "---  ------  --------------  -----  \n",
      " 0   Open    21 non-null     float64\n",
      "dtypes: float64(1)\n",
      "memory usage: 336.0 bytes\n"
     ]
    }
   ],
   "source": [
    "test_set.info()"
   ]
  },
  {
   "cell_type": "code",
   "execution_count": 35,
   "metadata": {},
   "outputs": [],
   "source": [
    "dataset_total = pd.concat((data['Open'], data_test['Open']),axis=0)\n",
    "inputs = dataset_total[len(dataset_total)- len(data_test) - 60:].values\n",
    "inputs = inputs.reshape(-1,1)\n",
    "inputs = me.transform(inputs)\n",
    "X_test= []\n",
    "for i in range(60,80):\n",
    "    X_test.append(inputs[i-60:i,0])\n",
    "X_test = np.array(X_test)\n",
    "X_test = np.reshape(X_test,(X_test.shape[0],X_test.shape[1],1))\n",
    "predicted_stock_price = regressor.predict(X_test)\n",
    "predicted_stock_price = me.inverse_transform(predicted_stock_price)"
   ]
  },
  {
   "cell_type": "code",
   "execution_count": 36,
   "metadata": {},
   "outputs": [
    {
     "name": "stdout",
     "output_type": "stream",
     "text": [
      "<class 'pandas.core.frame.DataFrame'>\n",
      "RangeIndex: 20 entries, 0 to 19\n",
      "Data columns (total 1 columns):\n",
      " #   Column  Non-Null Count  Dtype  \n",
      "---  ------  --------------  -----  \n",
      " 0   0       20 non-null     float32\n",
      "dtypes: float32(1)\n",
      "memory usage: 208.0 bytes\n"
     ]
    }
   ],
   "source": [
    "predicted_stock_price= pd.DataFrame(predicted_stock_price)\n",
    "predicted_stock_price.info()"
   ]
  },
  {
   "cell_type": "code",
   "execution_count": 37,
   "metadata": {},
   "outputs": [],
   "source": [
    "real_stock_price = data_test.iloc[:,1:2].values"
   ]
  },
  {
   "cell_type": "code",
   "execution_count": 38,
   "metadata": {},
   "outputs": [
    {
     "data": {
      "image/png": "[encoded data removed]",
      "text/plain": [
       "<Figure size 432x288 with 1 Axes>"
      ]
     },
     "metadata": {
      "needs_background": "light"
     },
     "output_type": "display_data"
    }
   ],
   "source": [
    "plt.plot(real_stock_price, color = 'red',label='Real_Stock_Price')\n",
    "plt.plot(predicted_stock_price, color='blue',label='Predicted_Stock_Price')\n",
    "plt.title('Amazon Stock Price')\n",
    "plt.xlabel('Time')\n",
    "plt.ylabel('Amazon Stock Price')\n",
    "plt.legend()\n",
    "plt.show()"
   ]
  },
  {
   "cell_type": "code",
   "execution_count": null,
   "metadata": {},
   "outputs": [],
   "source": []
  }
 ],
 "metadata": {
  "kernelspec": {
   "display_name": "Python 3",
   "language": "python",
   "name": "python3"
  },
  "language_info": {
   "codemirror_mode": {
    "name": "ipython",
    "version": 3
   },
   "file_extension": ".py",
   "mimetype": "text/x-python",
   "name": "python",
   "nbconvert_exporter": "python",
   "pygments_lexer": "ipython3",
   "version": "3.7.9"
  }
 },
 "nbformat": 4,
 "nbformat_minor": 4
}
